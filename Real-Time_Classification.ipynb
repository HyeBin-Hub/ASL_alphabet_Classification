{
 "cells": [
  {
   "cell_type": "code",
   "execution_count": 1,
   "id": "ea034296",
   "metadata": {},
   "outputs": [],
   "source": [
    "def get_class_name(classNo):\n",
    "    if   classNo == 0: return 'A'\n",
    "    elif classNo == 1: return 'B'\n",
    "    elif classNo == 2: return 'Blank'\n",
    "    elif classNo == 3: return 'C'\n",
    "    elif classNo == 4: return 'D'\n",
    "    elif classNo == 5: return 'E'\n",
    "    elif classNo == 6: return 'F'\n",
    "    elif classNo == 7: return 'G'\n",
    "    elif classNo == 8: return 'H'\n",
    "    elif classNo == 9: return 'I'\n",
    "    elif classNo == 10: return 'J'\n",
    "    elif classNo == 11: return 'K'\n",
    "    elif classNo == 12: return 'L'\n",
    "    elif classNo == 13: return 'M'\n",
    "    elif classNo == 14: return 'N'\n",
    "    elif classNo == 15: return 'O'\n",
    "    elif classNo == 16: return 'P'\n",
    "    elif classNo == 17: return 'Q'\n",
    "    elif classNo == 18: return 'R'\n",
    "    elif classNo == 19: return 'S'\n",
    "    elif classNo == 20: return 'T'\n",
    "    elif classNo == 21: return 'U'\n",
    "    elif classNo == 22: return 'V'\n",
    "    elif classNo == 23: return 'W'\n",
    "    elif classNo == 24: return 'X'\n",
    "    elif classNo == 25: return 'Y'\n",
    "    elif classNo == 26: return 'Z'"
   ]
  },
  {
   "cell_type": "code",
   "execution_count": 2,
   "id": "1ecdc9eb",
   "metadata": {},
   "outputs": [],
   "source": [
    "import numpy as np\n",
    "import cv2\n",
    "import tensorflow as tf\n",
    "\n",
    "def auto_scan_image_via_webcam(video_output_path,model):\n",
    "    \n",
    "    cap = cv2.VideoCapture(0)\n",
    "\n",
    "    codec=cv2.VideoWriter_fourcc(*'XVID')\n",
    "\n",
    "    video_size=(round(cap.get(cv2.CAP_PROP_FRAME_WIDTH)),round(cap.get(cv2.CAP_PROP_FRAME_HEIGHT)))\n",
    "\n",
    "    video_fps=cap.get(cv2.CAP_PROP_FPS)\n",
    "\n",
    "    video_write=cv2.VideoWriter(video_output_path,codec,video_fps,video_size)\n",
    "\n",
    "    while True:\n",
    "        ret, frame = cap.read()\n",
    "        if not ret:\n",
    "            print('cannot load camera!')\n",
    "            break\n",
    "            \n",
    "        k = cv2.waitKey(10)\n",
    "        if k == 27:\n",
    "            break\n",
    "        \n",
    "        #cv2.putText(frame, \"CLASS: \", (20, 35), cv2.FONT_HERSHEY_SIMPLEX, \n",
    "        #        0.75, (0, 0, 255), 2, cv2.LINE_AA)\n",
    "        #cv2.putText(frame, \"PROBABILITY: \", (20, 75), cv2.FONT_HERSHEY_SIMPLEX,\n",
    "        #        0.75, (255, 0, 0), 2, cv2.LINE_AA)\n",
    "        \n",
    "        img=cv2.resize(frame,(224,224))\n",
    "        img=img[np.newaxis,:,:,]\n",
    "\n",
    "        predictions = model.predict(img)\n",
    "        class_id = np.argmax(predictions, axis=-1) \n",
    "        probabilityValue = np.amax(predictions)\n",
    "        if probabilityValue > 0.3:\n",
    "            cv2.putText(frame, str(get_class_name(class_id)), (10, 30), \n",
    "                        cv2.FONT_HERSHEY_SIMPLEX, 0.8, (51, 51, 255), 2, cv2.LINE_AA)\n",
    "            cv2.putText(frame, str(round(probabilityValue*100, 2))+\"%\", (10, 70), \n",
    "                        cv2.FONT_HERSHEY_SIMPLEX, 0.8, (51, 51, 255), 2, cv2.LINE_AA)\n",
    "        \n",
    "        cv2.imshow(\"WebCam\", frame)\n",
    "        video_write.write(frame)\n",
    "\n",
    "    cap.release()\n",
    "    video_write.release()\n",
    "        \n",
    "    cap.release()\n",
    "    cv2.destroyAllWindows()\n",
    "    cv2.waitKey(1)"
   ]
  },
  {
   "cell_type": "code",
   "execution_count": 4,
   "id": "f509b9ee",
   "metadata": {},
   "outputs": [],
   "source": [
    "# ResNet50V2\n",
    "model = tf.keras.models.load_model(\"resnet_model.h5\")\n",
    "auto_scan_image_via_webcam(\"./resnet_result.mp4\",model)"
   ]
  },
  {
   "cell_type": "code",
   "execution_count": 12,
   "id": "820292b3",
   "metadata": {},
   "outputs": [],
   "source": [
    "#InceptionV3\n",
    "model = tf.keras.models.load_model(\"inception_model.h5\")\n",
    "auto_scan_image_via_webcam(\"./inception_result.mp4\",model)"
   ]
  },
  {
   "cell_type": "code",
   "execution_count": 3,
   "id": "311899d3",
   "metadata": {},
   "outputs": [],
   "source": [
    "#VGG16\n",
    "model = tf.keras.models.load_model(\"vgg_model.h5\")\n",
    "auto_scan_image_via_webcam(\"./vgg_result.mp4\",model)"
   ]
  },
  {
   "cell_type": "code",
   "execution_count": null,
   "id": "32055b32",
   "metadata": {},
   "outputs": [],
   "source": []
  }
 ],
 "metadata": {
  "kernelspec": {
   "display_name": "tensorflow_gpu_py",
   "language": "python",
   "name": "tensorflow_gpu_py"
  },
  "language_info": {
   "codemirror_mode": {
    "name": "ipython",
    "version": 3
   },
   "file_extension": ".py",
   "mimetype": "text/x-python",
   "name": "python",
   "nbconvert_exporter": "python",
   "pygments_lexer": "ipython3",
   "version": "3.7.13"
  }
 },
 "nbformat": 4,
 "nbformat_minor": 5
}
